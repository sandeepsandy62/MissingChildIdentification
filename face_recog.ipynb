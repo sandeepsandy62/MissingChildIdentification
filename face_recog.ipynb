{
 "cells": [
  {
   "cell_type": "code",
   "execution_count": 2,
   "id": "013ef78d",
   "metadata": {},
   "outputs": [],
   "source": [
    "import os\n",
    "import numpy as np\n",
    "import cv2\n",
    "import tensorflow as tf\n",
    "from tensorflow.keras.models import Sequential\n",
    "from tensorflow.keras.layers import Conv2D, MaxPooling2D, Flatten, Dense, Dropout\n",
    "from tensorflow.keras.preprocessing.image import ImageDataGenerator"
   ]
  },
  {
   "cell_type": "code",
   "execution_count": 3,
   "id": "2ed2bd33",
   "metadata": {},
   "outputs": [
    {
     "name": "stdout",
     "output_type": "stream",
     "text": [
      "Found 13233 images belonging to 5749 classes.\n"
     ]
    }
   ],
   "source": [
    "train_datagen = ImageDataGenerator(\n",
    "    rescale=1./255,\n",
    "    rotation_range=20,\n",
    "    width_shift_range=0.1,\n",
    "    height_shift_range=0.1,\n",
    "    shear_range=0.1,\n",
    "    zoom_range=0.1,\n",
    "    horizontal_flip=True,\n",
    "    vertical_flip=True,\n",
    "    fill_mode='nearest'\n",
    ")\n",
    "\n",
    "train_generator = train_datagen.flow_from_directory(\n",
    "    directory='C:\\\\Users\\\\Lenovo\\\\Desktop\\\\MajorProject\\\\Datasets\\\\lfw',\n",
    "    target_size=(64, 64),\n",
    "    batch_size=32,\n",
    "    class_mode='categorical',\n",
    "    classes=None,\n",
    "    shuffle=True\n",
    ")"
   ]
  },
  {
   "cell_type": "code",
   "execution_count": 9,
   "id": "7c48a4f1",
   "metadata": {},
   "outputs": [
    {
     "name": "stdout",
     "output_type": "stream",
     "text": [
      "Found 13233 images belonging to 5749 classes.\n",
      "Epoch 1/10\n",
      "413/413 [==============================] - 534s 1s/step - loss: 0.0052 - accuracy: 0.9980\n",
      "Epoch 2/10\n",
      "413/413 [==============================] - 537s 1s/step - loss: 0.0020 - accuracy: 0.9998\n",
      "Epoch 3/10\n",
      "413/413 [==============================] - 445s 1s/step - loss: 0.0019 - accuracy: 0.9998\n",
      "Epoch 4/10\n",
      "413/413 [==============================] - 334s 809ms/step - loss: 0.0019 - accuracy: 0.9998\n",
      "Epoch 5/10\n",
      "413/413 [==============================] - 339s 820ms/step - loss: 0.0019 - accuracy: 0.9998\n",
      "Epoch 6/10\n",
      "413/413 [==============================] - 350s 846ms/step - loss: 0.0018 - accuracy: 0.9998\n",
      "Epoch 7/10\n",
      "413/413 [==============================] - 370s 895ms/step - loss: 0.0018 - accuracy: 0.9998\n",
      "Epoch 8/10\n",
      "413/413 [==============================] - 391s 946ms/step - loss: 0.0018 - accuracy: 0.9998\n",
      "Epoch 9/10\n",
      "413/413 [==============================] - 324s 784ms/step - loss: 0.0018 - accuracy: 0.9998\n",
      "Epoch 10/10\n",
      "413/413 [==============================] - 325s 786ms/step - loss: 0.0018 - accuracy: 0.9998\n"
     ]
    },
    {
     "data": {
      "text/plain": [
       "<keras.callbacks.History at 0x253c58c9ac0>"
      ]
     },
     "execution_count": 9,
     "metadata": {},
     "output_type": "execute_result"
    }
   ],
   "source": [
    "from tensorflow.keras.applications import VGG16\n",
    "from tensorflow.keras.models import Model\n",
    "from tensorflow.keras.layers import Flatten, Dense, Dropout\n",
    "\n",
    "base_model = VGG16(include_top=False, weights='imagenet', input_shape=(64, 64, 3))\n",
    "\n",
    "for layer in base_model.layers:\n",
    "    layer.trainable = False\n",
    "\n",
    "x = base_model.output\n",
    "x = Flatten()(x)\n",
    "x = Dense(128, activation='relu')(x)\n",
    "x = Dropout(0.5)(x)\n",
    "predictions = Dense(1, activation='sigmoid')(x)\n",
    "\n",
    "model = Model(inputs=base_model.input, outputs=predictions)\n",
    "\n",
    "model.compile(optimizer='adam',\n",
    "              loss='binary_crossentropy',\n",
    "              metrics=['accuracy'])\n",
    "\n",
    "train_datagen = ImageDataGenerator(\n",
    "    rescale=1./255,\n",
    "    rotation_range=20,\n",
    "    width_shift_range=0.1,\n",
    "    height_shift_range=0.1,\n",
    "    shear_range=0.1,\n",
    "    zoom_range=0.1,\n",
    "    horizontal_flip=True,\n",
    "    vertical_flip=True,\n",
    "    fill_mode='nearest'\n",
    ")\n",
    "\n",
    "train_generator = train_datagen.flow_from_directory(\n",
    "    directory='C:\\\\Users\\\\Lenovo\\\\Desktop\\\\MajorProject\\\\Datasets\\\\lfw',\n",
    "    target_size=(64, 64),\n",
    "    batch_size=32,\n",
    "    class_mode='categorical',\n",
    "    shuffle=True\n",
    ")\n",
    "\n",
    "model.fit(\n",
    "    train_generator,\n",
    "    steps_per_epoch=train_generator.n//train_generator.batch_size,\n",
    "    epochs=10\n",
    ")\n"
   ]
  },
  {
   "cell_type": "code",
   "execution_count": 10,
   "id": "d0550d50",
   "metadata": {},
   "outputs": [],
   "source": [
    "model.save('face_recognition_model.h5')"
   ]
  },
  {
   "cell_type": "code",
   "execution_count": 11,
   "id": "160d3ebc",
   "metadata": {},
   "outputs": [],
   "source": [
    "model = tf.keras.models.load_model('face_recognition_model.h5')"
   ]
  },
  {
   "cell_type": "code",
   "execution_count": 14,
   "id": "dfb7db49",
   "metadata": {},
   "outputs": [
    {
     "name": "stdout",
     "output_type": "stream",
     "text": [
      "1/1 [==============================] - 1s 542ms/step\n",
      "[[0.00012201]]\n"
     ]
    }
   ],
   "source": [
    "import numpy as np\n",
    "from tensorflow.keras.preprocessing import image\n",
    "from tensorflow.keras.models import load_model\n",
    "\n",
    "# Load pre-trained CNN model\n",
    "model = load_model('face_recognition_model.h5')\n",
    "\n",
    "# Load input image and resize it to match model's input shape\n",
    "img_path = '4136.jpg'\n",
    "img = image.load_img(img_path, target_size=(64, 64))\n",
    "\n",
    "# Convert image to numpy array and normalize pixel values to be between 0 and 1\n",
    "x = image.img_to_array(img)\n",
    "x = np.expand_dims(x, axis=0)\n",
    "x /= 255.\n",
    "\n",
    "# Extract feature vector by running input image through pre-trained model\n",
    "feature_vector = model.predict(x)\n",
    "\n",
    "# Print feature vector\n",
    "print(feature_vector)\n"
   ]
  },
  {
   "cell_type": "code",
   "execution_count": null,
   "id": "09382e5b",
   "metadata": {},
   "outputs": [],
   "source": []
  }
 ],
 "metadata": {
  "kernelspec": {
   "display_name": "Python 3 (ipykernel)",
   "language": "python",
   "name": "python3"
  },
  "language_info": {
   "codemirror_mode": {
    "name": "ipython",
    "version": 3
   },
   "file_extension": ".py",
   "mimetype": "text/x-python",
   "name": "python",
   "nbconvert_exporter": "python",
   "pygments_lexer": "ipython3",
   "version": "3.9.13"
  }
 },
 "nbformat": 4,
 "nbformat_minor": 5
}
